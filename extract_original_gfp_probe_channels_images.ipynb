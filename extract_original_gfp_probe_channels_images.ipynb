{
 "cells": [
  {
   "cell_type": "markdown",
   "metadata": {},
   "source": [
    "Images taken during the last FISH experiment (2020), on the SP8 Leica microscope."
   ]
  },
  {
   "cell_type": "markdown",
   "metadata": {},
   "source": [
    "# Import the python libraries"
   ]
  },
  {
   "cell_type": "code",
   "execution_count": 1,
   "metadata": {},
   "outputs": [],
   "source": [
    "# To import the files\n",
    "import glob\n",
    "from pathlib import Path\n",
    "\n",
    "# To read the dataframes\n",
    "import pandas as pd\n",
    "import numpy as np\n",
    "\n",
    "# To plot the images\n",
    "import matplotlib.pyplot as plt\n",
    "import seaborn as sns\n",
    "\n",
    "# To analyse the images\n",
    "from skimage.filters import gaussian, median\n",
    "from skimage.restoration import estimate_sigma\n",
    "from skimage.exposure import equalize_hist, adjust_gamma\n",
    "\n",
    "# To export image in the different formats: png, ...\n",
    "import imageio"
   ]
  },
  {
   "cell_type": "markdown",
   "metadata": {},
   "source": [
    "# Eukaryote dataframe"
   ]
  },
  {
   "cell_type": "markdown",
   "metadata": {},
   "source": [
    "## Load the eukaryote dataframe"
   ]
  },
  {
   "cell_type": "code",
   "execution_count": 2,
   "metadata": {},
   "outputs": [],
   "source": [
    "# Read the image dataframe parquet file:\n",
    "df_eukaryote = pd.read_parquet('parquets/df_eukaryote.parquet')"
   ]
  },
  {
   "cell_type": "code",
   "execution_count": 3,
   "metadata": {},
   "outputs": [
    {
     "data": {
      "text/html": [
       "<div>\n",
       "<style scoped>\n",
       "    .dataframe tbody tr th:only-of-type {\n",
       "        vertical-align: middle;\n",
       "    }\n",
       "\n",
       "    .dataframe tbody tr th {\n",
       "        vertical-align: top;\n",
       "    }\n",
       "\n",
       "    .dataframe thead th {\n",
       "        text-align: right;\n",
       "    }\n",
       "</style>\n",
       "<table border=\"1\" class=\"dataframe\">\n",
       "  <thead>\n",
       "    <tr style=\"text-align: right;\">\n",
       "      <th></th>\n",
       "      <th>file</th>\n",
       "      <th>serie</th>\n",
       "      <th>channel</th>\n",
       "      <th>nbr_frames</th>\n",
       "      <th>shape_X</th>\n",
       "      <th>shape_Y</th>\n",
       "      <th>channel_count</th>\n",
       "      <th>Image.@UniqueID</th>\n",
       "      <th>Channel.@LUTName</th>\n",
       "      <th>Dimension.@DimID_X</th>\n",
       "      <th>...</th>\n",
       "      <th>Dimension.@NumberOfElements_Y</th>\n",
       "      <th>Dimension.@Length_Y</th>\n",
       "      <th>Dimension.@Unit_Y</th>\n",
       "      <th>ATLConfocalSettingDefinition.@ScanSpeed</th>\n",
       "      <th>ATLConfocalSettingDefinition.@Zoom</th>\n",
       "      <th>ATLConfocalSettingDefinition.@PixelDwellTime</th>\n",
       "      <th>ATLConfocalSettingDefinition.DetectorList.Detector.@Name</th>\n",
       "      <th>ATLConfocalSettingDefinition.DetectorList.Detector.@Type</th>\n",
       "      <th>ATLConfocalSettingDefinition.DetectorList.Detector.@Gain</th>\n",
       "      <th>ATLConfocalSettingDefinition.DetectorList.Detector.@Offset</th>\n",
       "    </tr>\n",
       "  </thead>\n",
       "  <tbody>\n",
       "    <tr>\n",
       "      <th>168</th>\n",
       "      <td>200316_1_NoProbes.lif</td>\n",
       "      <td>Image001</td>\n",
       "      <td>0</td>\n",
       "      <td>1</td>\n",
       "      <td>512</td>\n",
       "      <td>512</td>\n",
       "      <td>4</td>\n",
       "      <td>07e1048b-6795-11ea-a94d-002432168676</td>\n",
       "      <td>Blue</td>\n",
       "      <td>1</td>\n",
       "      <td>...</td>\n",
       "      <td>512</td>\n",
       "      <td>0.000185</td>\n",
       "      <td>m</td>\n",
       "      <td>400.0</td>\n",
       "      <td>1.000000</td>\n",
       "      <td>0.000003</td>\n",
       "      <td>PMT 3</td>\n",
       "      <td>PMT</td>\n",
       "      <td>600.289921</td>\n",
       "      <td>0.000000</td>\n",
       "    </tr>\n",
       "    <tr>\n",
       "      <th>169</th>\n",
       "      <td>200316_1_NoProbes.lif</td>\n",
       "      <td>Image001</td>\n",
       "      <td>1</td>\n",
       "      <td>1</td>\n",
       "      <td>512</td>\n",
       "      <td>512</td>\n",
       "      <td>4</td>\n",
       "      <td>07e1048b-6795-11ea-a94d-002432168676</td>\n",
       "      <td>Green</td>\n",
       "      <td>1</td>\n",
       "      <td>...</td>\n",
       "      <td>512</td>\n",
       "      <td>0.000185</td>\n",
       "      <td>m</td>\n",
       "      <td>400.0</td>\n",
       "      <td>1.000000</td>\n",
       "      <td>0.000003</td>\n",
       "      <td>HyD4 SMD</td>\n",
       "      <td>HyD</td>\n",
       "      <td>350.666885</td>\n",
       "      <td>-0.006667</td>\n",
       "    </tr>\n",
       "    <tr>\n",
       "      <th>170</th>\n",
       "      <td>200316_1_NoProbes.lif</td>\n",
       "      <td>Image001</td>\n",
       "      <td>2</td>\n",
       "      <td>1</td>\n",
       "      <td>512</td>\n",
       "      <td>512</td>\n",
       "      <td>4</td>\n",
       "      <td>07e1048b-6795-11ea-a94d-002432168676</td>\n",
       "      <td>Gray</td>\n",
       "      <td>1</td>\n",
       "      <td>...</td>\n",
       "      <td>512</td>\n",
       "      <td>0.000185</td>\n",
       "      <td>m</td>\n",
       "      <td>400.0</td>\n",
       "      <td>1.000000</td>\n",
       "      <td>0.000003</td>\n",
       "      <td>PMT Trans</td>\n",
       "      <td>PMT</td>\n",
       "      <td>350.537881</td>\n",
       "      <td>0.000000</td>\n",
       "    </tr>\n",
       "    <tr>\n",
       "      <th>171</th>\n",
       "      <td>200316_1_NoProbes.lif</td>\n",
       "      <td>Image001</td>\n",
       "      <td>3</td>\n",
       "      <td>1</td>\n",
       "      <td>512</td>\n",
       "      <td>512</td>\n",
       "      <td>4</td>\n",
       "      <td>07e1048b-6795-11ea-a94d-002432168676</td>\n",
       "      <td>Red</td>\n",
       "      <td>1</td>\n",
       "      <td>...</td>\n",
       "      <td>512</td>\n",
       "      <td>0.000185</td>\n",
       "      <td>m</td>\n",
       "      <td>400.0</td>\n",
       "      <td>1.000000</td>\n",
       "      <td>0.000003</td>\n",
       "      <td>PMT 5</td>\n",
       "      <td>PMT</td>\n",
       "      <td>600.404364</td>\n",
       "      <td>0.000000</td>\n",
       "    </tr>\n",
       "    <tr>\n",
       "      <th>172</th>\n",
       "      <td>200316_1_NoProbes.lif</td>\n",
       "      <td>Image002</td>\n",
       "      <td>0</td>\n",
       "      <td>1</td>\n",
       "      <td>512</td>\n",
       "      <td>512</td>\n",
       "      <td>4</td>\n",
       "      <td>30830004-6795-11ea-a94d-002432168676</td>\n",
       "      <td>Blue</td>\n",
       "      <td>1</td>\n",
       "      <td>...</td>\n",
       "      <td>512</td>\n",
       "      <td>0.000185</td>\n",
       "      <td>m</td>\n",
       "      <td>400.0</td>\n",
       "      <td>1.000000</td>\n",
       "      <td>0.000003</td>\n",
       "      <td>PMT 3</td>\n",
       "      <td>PMT</td>\n",
       "      <td>600.289921</td>\n",
       "      <td>0.000000</td>\n",
       "    </tr>\n",
       "    <tr>\n",
       "      <th>173</th>\n",
       "      <td>200316_1_NoProbes.lif</td>\n",
       "      <td>Image002</td>\n",
       "      <td>1</td>\n",
       "      <td>1</td>\n",
       "      <td>512</td>\n",
       "      <td>512</td>\n",
       "      <td>4</td>\n",
       "      <td>30830004-6795-11ea-a94d-002432168676</td>\n",
       "      <td>Green</td>\n",
       "      <td>1</td>\n",
       "      <td>...</td>\n",
       "      <td>512</td>\n",
       "      <td>0.000185</td>\n",
       "      <td>m</td>\n",
       "      <td>400.0</td>\n",
       "      <td>1.000000</td>\n",
       "      <td>0.000003</td>\n",
       "      <td>HyD4 SMD</td>\n",
       "      <td>HyD</td>\n",
       "      <td>350.666885</td>\n",
       "      <td>-0.006667</td>\n",
       "    </tr>\n",
       "    <tr>\n",
       "      <th>174</th>\n",
       "      <td>200316_1_NoProbes.lif</td>\n",
       "      <td>Image002</td>\n",
       "      <td>2</td>\n",
       "      <td>1</td>\n",
       "      <td>512</td>\n",
       "      <td>512</td>\n",
       "      <td>4</td>\n",
       "      <td>30830004-6795-11ea-a94d-002432168676</td>\n",
       "      <td>Gray</td>\n",
       "      <td>1</td>\n",
       "      <td>...</td>\n",
       "      <td>512</td>\n",
       "      <td>0.000185</td>\n",
       "      <td>m</td>\n",
       "      <td>400.0</td>\n",
       "      <td>1.000000</td>\n",
       "      <td>0.000003</td>\n",
       "      <td>PMT Trans</td>\n",
       "      <td>PMT</td>\n",
       "      <td>350.537881</td>\n",
       "      <td>0.000000</td>\n",
       "    </tr>\n",
       "    <tr>\n",
       "      <th>175</th>\n",
       "      <td>200316_1_NoProbes.lif</td>\n",
       "      <td>Image002</td>\n",
       "      <td>3</td>\n",
       "      <td>1</td>\n",
       "      <td>512</td>\n",
       "      <td>512</td>\n",
       "      <td>4</td>\n",
       "      <td>30830004-6795-11ea-a94d-002432168676</td>\n",
       "      <td>Red</td>\n",
       "      <td>1</td>\n",
       "      <td>...</td>\n",
       "      <td>512</td>\n",
       "      <td>0.000185</td>\n",
       "      <td>m</td>\n",
       "      <td>400.0</td>\n",
       "      <td>1.000000</td>\n",
       "      <td>0.000003</td>\n",
       "      <td>PMT 5</td>\n",
       "      <td>PMT</td>\n",
       "      <td>600.404364</td>\n",
       "      <td>0.000000</td>\n",
       "    </tr>\n",
       "    <tr>\n",
       "      <th>256</th>\n",
       "      <td>200316_3_Triton_Probes.lif</td>\n",
       "      <td>Image001</td>\n",
       "      <td>0</td>\n",
       "      <td>1</td>\n",
       "      <td>632</td>\n",
       "      <td>632</td>\n",
       "      <td>4</td>\n",
       "      <td>fbbd1930-6793-11ea-a94d-002432168676</td>\n",
       "      <td>Blue</td>\n",
       "      <td>1</td>\n",
       "      <td>...</td>\n",
       "      <td>632</td>\n",
       "      <td>0.000037</td>\n",
       "      <td>m</td>\n",
       "      <td>400.0</td>\n",
       "      <td>5.000013</td>\n",
       "      <td>0.000003</td>\n",
       "      <td>PMT 3</td>\n",
       "      <td>PMT</td>\n",
       "      <td>600.289921</td>\n",
       "      <td>0.000000</td>\n",
       "    </tr>\n",
       "    <tr>\n",
       "      <th>257</th>\n",
       "      <td>200316_3_Triton_Probes.lif</td>\n",
       "      <td>Image001</td>\n",
       "      <td>1</td>\n",
       "      <td>1</td>\n",
       "      <td>632</td>\n",
       "      <td>632</td>\n",
       "      <td>4</td>\n",
       "      <td>fbbd1930-6793-11ea-a94d-002432168676</td>\n",
       "      <td>Green</td>\n",
       "      <td>1</td>\n",
       "      <td>...</td>\n",
       "      <td>632</td>\n",
       "      <td>0.000037</td>\n",
       "      <td>m</td>\n",
       "      <td>400.0</td>\n",
       "      <td>5.000013</td>\n",
       "      <td>0.000003</td>\n",
       "      <td>HyD4 SMD</td>\n",
       "      <td>HyD</td>\n",
       "      <td>350.666885</td>\n",
       "      <td>-0.006667</td>\n",
       "    </tr>\n",
       "  </tbody>\n",
       "</table>\n",
       "<p>10 rows × 24 columns</p>\n",
       "</div>"
      ],
      "text/plain": [
       "                           file     serie  channel  nbr_frames  shape_X  \\\n",
       "168       200316_1_NoProbes.lif  Image001        0           1      512   \n",
       "169       200316_1_NoProbes.lif  Image001        1           1      512   \n",
       "170       200316_1_NoProbes.lif  Image001        2           1      512   \n",
       "171       200316_1_NoProbes.lif  Image001        3           1      512   \n",
       "172       200316_1_NoProbes.lif  Image002        0           1      512   \n",
       "173       200316_1_NoProbes.lif  Image002        1           1      512   \n",
       "174       200316_1_NoProbes.lif  Image002        2           1      512   \n",
       "175       200316_1_NoProbes.lif  Image002        3           1      512   \n",
       "256  200316_3_Triton_Probes.lif  Image001        0           1      632   \n",
       "257  200316_3_Triton_Probes.lif  Image001        1           1      632   \n",
       "\n",
       "     shape_Y  channel_count                       Image.@UniqueID  \\\n",
       "168      512              4  07e1048b-6795-11ea-a94d-002432168676   \n",
       "169      512              4  07e1048b-6795-11ea-a94d-002432168676   \n",
       "170      512              4  07e1048b-6795-11ea-a94d-002432168676   \n",
       "171      512              4  07e1048b-6795-11ea-a94d-002432168676   \n",
       "172      512              4  30830004-6795-11ea-a94d-002432168676   \n",
       "173      512              4  30830004-6795-11ea-a94d-002432168676   \n",
       "174      512              4  30830004-6795-11ea-a94d-002432168676   \n",
       "175      512              4  30830004-6795-11ea-a94d-002432168676   \n",
       "256      632              4  fbbd1930-6793-11ea-a94d-002432168676   \n",
       "257      632              4  fbbd1930-6793-11ea-a94d-002432168676   \n",
       "\n",
       "    Channel.@LUTName  Dimension.@DimID_X  ...  Dimension.@NumberOfElements_Y  \\\n",
       "168             Blue                   1  ...                            512   \n",
       "169            Green                   1  ...                            512   \n",
       "170             Gray                   1  ...                            512   \n",
       "171              Red                   1  ...                            512   \n",
       "172             Blue                   1  ...                            512   \n",
       "173            Green                   1  ...                            512   \n",
       "174             Gray                   1  ...                            512   \n",
       "175              Red                   1  ...                            512   \n",
       "256             Blue                   1  ...                            632   \n",
       "257            Green                   1  ...                            632   \n",
       "\n",
       "     Dimension.@Length_Y Dimension.@Unit_Y  \\\n",
       "168             0.000185                 m   \n",
       "169             0.000185                 m   \n",
       "170             0.000185                 m   \n",
       "171             0.000185                 m   \n",
       "172             0.000185                 m   \n",
       "173             0.000185                 m   \n",
       "174             0.000185                 m   \n",
       "175             0.000185                 m   \n",
       "256             0.000037                 m   \n",
       "257             0.000037                 m   \n",
       "\n",
       "     ATLConfocalSettingDefinition.@ScanSpeed  \\\n",
       "168                                    400.0   \n",
       "169                                    400.0   \n",
       "170                                    400.0   \n",
       "171                                    400.0   \n",
       "172                                    400.0   \n",
       "173                                    400.0   \n",
       "174                                    400.0   \n",
       "175                                    400.0   \n",
       "256                                    400.0   \n",
       "257                                    400.0   \n",
       "\n",
       "     ATLConfocalSettingDefinition.@Zoom  \\\n",
       "168                            1.000000   \n",
       "169                            1.000000   \n",
       "170                            1.000000   \n",
       "171                            1.000000   \n",
       "172                            1.000000   \n",
       "173                            1.000000   \n",
       "174                            1.000000   \n",
       "175                            1.000000   \n",
       "256                            5.000013   \n",
       "257                            5.000013   \n",
       "\n",
       "     ATLConfocalSettingDefinition.@PixelDwellTime  \\\n",
       "168                                      0.000003   \n",
       "169                                      0.000003   \n",
       "170                                      0.000003   \n",
       "171                                      0.000003   \n",
       "172                                      0.000003   \n",
       "173                                      0.000003   \n",
       "174                                      0.000003   \n",
       "175                                      0.000003   \n",
       "256                                      0.000003   \n",
       "257                                      0.000003   \n",
       "\n",
       "    ATLConfocalSettingDefinition.DetectorList.Detector.@Name  \\\n",
       "168                                              PMT 3         \n",
       "169                                           HyD4 SMD         \n",
       "170                                          PMT Trans         \n",
       "171                                              PMT 5         \n",
       "172                                              PMT 3         \n",
       "173                                           HyD4 SMD         \n",
       "174                                          PMT Trans         \n",
       "175                                              PMT 5         \n",
       "256                                              PMT 3         \n",
       "257                                           HyD4 SMD         \n",
       "\n",
       "     ATLConfocalSettingDefinition.DetectorList.Detector.@Type  \\\n",
       "168                                                PMT          \n",
       "169                                                HyD          \n",
       "170                                                PMT          \n",
       "171                                                PMT          \n",
       "172                                                PMT          \n",
       "173                                                HyD          \n",
       "174                                                PMT          \n",
       "175                                                PMT          \n",
       "256                                                PMT          \n",
       "257                                                HyD          \n",
       "\n",
       "     ATLConfocalSettingDefinition.DetectorList.Detector.@Gain  \\\n",
       "168                                         600.289921          \n",
       "169                                         350.666885          \n",
       "170                                         350.537881          \n",
       "171                                         600.404364          \n",
       "172                                         600.289921          \n",
       "173                                         350.666885          \n",
       "174                                         350.537881          \n",
       "175                                         600.404364          \n",
       "256                                         600.289921          \n",
       "257                                         350.666885          \n",
       "\n",
       "     ATLConfocalSettingDefinition.DetectorList.Detector.@Offset  \n",
       "168                                           0.000000           \n",
       "169                                          -0.006667           \n",
       "170                                           0.000000           \n",
       "171                                           0.000000           \n",
       "172                                           0.000000           \n",
       "173                                          -0.006667           \n",
       "174                                           0.000000           \n",
       "175                                           0.000000           \n",
       "256                                           0.000000           \n",
       "257                                          -0.006667           \n",
       "\n",
       "[10 rows x 24 columns]"
      ]
     },
     "execution_count": 3,
     "metadata": {},
     "output_type": "execute_result"
    }
   ],
   "source": [
    "df_eukaryote.head(10)"
   ]
  },
  {
   "cell_type": "code",
   "execution_count": 4,
   "metadata": {},
   "outputs": [
    {
     "data": {
      "text/plain": [
       "168     27.747098\n",
       "169     27.747098\n",
       "170     27.747098\n",
       "171     27.747098\n",
       "172     27.747098\n",
       "          ...    \n",
       "451    171.252039\n",
       "452    171.252039\n",
       "453    171.252039\n",
       "454    171.252039\n",
       "455    171.252039\n",
       "Name: scale_bar_10um, Length: 484, dtype: float64"
      ]
     },
     "execution_count": 4,
     "metadata": {},
     "output_type": "execute_result"
    }
   ],
   "source": [
    "#Scale bar results in pixels:\n",
    "df_eukaryote['scale_bar_10um'] = (0.000010*df_eukaryote['Dimension.@NumberOfElements_X'])/df_eukaryote['Dimension.@Length_X']\n",
    "df_eukaryote['scale_bar_10um']"
   ]
  },
  {
   "cell_type": "code",
   "execution_count": 5,
   "metadata": {},
   "outputs": [
    {
     "data": {
      "text/plain": [
       "168    px\n",
       "169    px\n",
       "170    px\n",
       "171    px\n",
       "172    px\n",
       "       ..\n",
       "451    px\n",
       "452    px\n",
       "453    px\n",
       "454    px\n",
       "455    px\n",
       "Name: scale_bar_10um_unit, Length: 484, dtype: object"
      ]
     },
     "execution_count": 5,
     "metadata": {},
     "output_type": "execute_result"
    }
   ],
   "source": [
    "df_eukaryote['scale_bar_10um_unit'] = 'px'\n",
    "df_eukaryote['scale_bar_10um_unit']"
   ]
  },
  {
   "cell_type": "code",
   "execution_count": 6,
   "metadata": {},
   "outputs": [
    {
     "data": {
      "text/plain": [
       "file                                                                    200316_3_Triton_Probes.lif\n",
       "serie                                                                                     Image003\n",
       "channel                                                                                          3\n",
       "nbr_frames                                                                                       1\n",
       "shape_X                                                                                        632\n",
       "shape_Y                                                                                        632\n",
       "channel_count                                                                                    4\n",
       "Image.@UniqueID                                               4ea5a0c7-6794-11ea-a94d-002432168676\n",
       "Channel.@LUTName                                                                               Red\n",
       "Dimension.@DimID_X                                                                               1\n",
       "Dimension.@NumberOfElements_X                                                                  632\n",
       "Dimension.@Length_X                                                                    3.69047e-05\n",
       "Dimension.@Unit_X                                                                                m\n",
       "Dimension.@DimID_Y                                                                               2\n",
       "Dimension.@NumberOfElements_Y                                                                  632\n",
       "Dimension.@Length_Y                                                                    3.69047e-05\n",
       "Dimension.@Unit_Y                                                                                m\n",
       "ATLConfocalSettingDefinition.@ScanSpeed                                                        400\n",
       "ATLConfocalSettingDefinition.@Zoom                                                         5.00001\n",
       "ATLConfocalSettingDefinition.@PixelDwellTime                                            2.5625e-06\n",
       "ATLConfocalSettingDefinition.DetectorList.Detector.@Name                                     PMT 5\n",
       "ATLConfocalSettingDefinition.DetectorList.Detector.@Type                                       PMT\n",
       "ATLConfocalSettingDefinition.DetectorList.Detector.@Gain                                   600.404\n",
       "ATLConfocalSettingDefinition.DetectorList.Detector.@Offset                                       0\n",
       "scale_bar_10um                                                                             171.252\n",
       "scale_bar_10um_unit                                                                             px\n",
       "Name: 267, dtype: object"
      ]
     },
     "execution_count": 6,
     "metadata": {},
     "output_type": "execute_result"
    }
   ],
   "source": [
    "df_eukaryote.loc[267]"
   ]
  },
  {
   "cell_type": "code",
   "execution_count": 7,
   "metadata": {},
   "outputs": [
    {
     "name": "stdout",
     "output_type": "stream",
     "text": [
      "<class 'pandas.core.frame.DataFrame'>\n",
      "Int64Index: 484 entries, 168 to 455\n",
      "Data columns (total 26 columns):\n",
      " #   Column                                                      Non-Null Count  Dtype   \n",
      "---  ------                                                      --------------  -----   \n",
      " 0   file                                                        484 non-null    object  \n",
      " 1   serie                                                       484 non-null    object  \n",
      " 2   channel                                                     484 non-null    int64   \n",
      " 3   nbr_frames                                                  484 non-null    int64   \n",
      " 4   shape_X                                                     484 non-null    int64   \n",
      " 5   shape_Y                                                     484 non-null    int64   \n",
      " 6   channel_count                                               484 non-null    int64   \n",
      " 7   Image.@UniqueID                                             484 non-null    object  \n",
      " 8   Channel.@LUTName                                            484 non-null    category\n",
      " 9   Dimension.@DimID_X                                          484 non-null    Int64   \n",
      " 10  Dimension.@NumberOfElements_X                               484 non-null    Int64   \n",
      " 11  Dimension.@Length_X                                         484 non-null    float64 \n",
      " 12  Dimension.@Unit_X                                           484 non-null    object  \n",
      " 13  Dimension.@DimID_Y                                          484 non-null    Int64   \n",
      " 14  Dimension.@NumberOfElements_Y                               484 non-null    Int64   \n",
      " 15  Dimension.@Length_Y                                         484 non-null    float64 \n",
      " 16  Dimension.@Unit_Y                                           484 non-null    object  \n",
      " 17  ATLConfocalSettingDefinition.@ScanSpeed                     484 non-null    float64 \n",
      " 18  ATLConfocalSettingDefinition.@Zoom                          484 non-null    float64 \n",
      " 19  ATLConfocalSettingDefinition.@PixelDwellTime                484 non-null    float64 \n",
      " 20  ATLConfocalSettingDefinition.DetectorList.Detector.@Name    484 non-null    category\n",
      " 21  ATLConfocalSettingDefinition.DetectorList.Detector.@Type    484 non-null    category\n",
      " 22  ATLConfocalSettingDefinition.DetectorList.Detector.@Gain    484 non-null    float64 \n",
      " 23  ATLConfocalSettingDefinition.DetectorList.Detector.@Offset  484 non-null    float64 \n",
      " 24  scale_bar_10um                                              484 non-null    float64 \n",
      " 25  scale_bar_10um_unit                                         484 non-null    object  \n",
      "dtypes: Int64(4), category(3), float64(8), int64(5), object(6)\n",
      "memory usage: 114.5+ KB\n"
     ]
    }
   ],
   "source": [
    "df_eukaryote.info()"
   ]
  },
  {
   "cell_type": "markdown",
   "metadata": {},
   "source": [
    "## Check the values of interest for the analysis"
   ]
  },
  {
   "cell_type": "code",
   "execution_count": 8,
   "metadata": {},
   "outputs": [
    {
     "data": {
      "text/plain": [
       "(array([320, 512, 632, 3144], dtype=object), array([  8, 280, 392, 288]))"
      ]
     },
     "execution_count": 8,
     "metadata": {},
     "output_type": "execute_result"
    }
   ],
   "source": [
    "np.unique(df_eukaryote[['Dimension.@NumberOfElements_X', 'Dimension.@NumberOfElements_Y']].values, return_counts=True)"
   ]
  },
  {
   "cell_type": "code",
   "execution_count": 9,
   "metadata": {},
   "outputs": [
    {
     "data": {
      "text/plain": [
       "array([400.])"
      ]
     },
     "execution_count": 9,
     "metadata": {},
     "output_type": "execute_result"
    }
   ],
   "source": [
    "df_eukaryote['ATLConfocalSettingDefinition.@ScanSpeed'].unique()"
   ]
  },
  {
   "cell_type": "markdown",
   "metadata": {},
   "source": [
    "Same scan speed used for all the images: 400 Hz"
   ]
  },
  {
   "cell_type": "code",
   "execution_count": 10,
   "metadata": {},
   "outputs": [
    {
     "data": {
      "text/plain": [
       "5.000013     268\n",
       "1.000000     212\n",
       "10.000025      4\n",
       "Name: ATLConfocalSettingDefinition.@Zoom, dtype: int64"
      ]
     },
     "execution_count": 10,
     "metadata": {},
     "output_type": "execute_result"
    }
   ],
   "source": [
    "df_eukaryote['ATLConfocalSettingDefinition.@Zoom'].value_counts()"
   ]
  },
  {
   "cell_type": "markdown",
   "metadata": {},
   "source": [
    "Three different zoom setting are used: 1, 5 and 10 time."
   ]
  },
  {
   "cell_type": "code",
   "execution_count": 11,
   "metadata": {},
   "outputs": [
    {
     "data": {
      "text/plain": [
       "2.562500e-06    196\n",
       "5.125000e-07    144\n",
       "3.162500e-06    140\n",
       "5.075000e-06      4\n",
       "Name: ATLConfocalSettingDefinition.@PixelDwellTime, dtype: int64"
      ]
     },
     "execution_count": 11,
     "metadata": {},
     "output_type": "execute_result"
    }
   ],
   "source": [
    "df_eukaryote['ATLConfocalSettingDefinition.@PixelDwellTime'].value_counts()"
   ]
  },
  {
   "cell_type": "code",
   "execution_count": 12,
   "metadata": {},
   "outputs": [
    {
     "data": {
      "text/plain": [
       "Channel.@LUTName  ATLConfocalSettingDefinition.DetectorList.Detector.@Gain\n",
       "Blue              600.289921                                                  114\n",
       "                  600.308995                                                    7\n",
       "Gray              350.537881                                                  114\n",
       "                  400.034333                                                    7\n",
       "Green             350.666885                                                  114\n",
       "                  349.980225                                                    7\n",
       "Red               600.881209                                                   58\n",
       "                  600.404364                                                   56\n",
       "                  600.862135                                                    7\n",
       "Name: ATLConfocalSettingDefinition.DetectorList.Detector.@Gain, dtype: int64"
      ]
     },
     "execution_count": 12,
     "metadata": {},
     "output_type": "execute_result"
    }
   ],
   "source": [
    "df_eukaryote.groupby('Channel.@LUTName')['ATLConfocalSettingDefinition.DetectorList.Detector.@Gain'].value_counts()"
   ]
  },
  {
   "cell_type": "code",
   "execution_count": 13,
   "metadata": {},
   "outputs": [
    {
     "data": {
      "text/plain": [
       "Channel.@LUTName  ATLConfocalSettingDefinition.DetectorList.Detector.@Offset\n",
       "Blue               0.000000                                                     114\n",
       "                  -0.073333                                                       7\n",
       "Gray               0.000000                                                     121\n",
       "Green             -0.006667                                                     121\n",
       "Red                0.000000                                                     121\n",
       "Name: ATLConfocalSettingDefinition.DetectorList.Detector.@Offset, dtype: int64"
      ]
     },
     "execution_count": 13,
     "metadata": {},
     "output_type": "execute_result"
    }
   ],
   "source": [
    "df_eukaryote.groupby('Channel.@LUTName')['ATLConfocalSettingDefinition.DetectorList.Detector.@Offset'].value_counts()"
   ]
  },
  {
   "cell_type": "markdown",
   "metadata": {},
   "source": [
    "# Load the numpy files containing the images"
   ]
  },
  {
   "cell_type": "code",
   "execution_count": 14,
   "metadata": {},
   "outputs": [],
   "source": [
    "image_arrays = sorted(glob.glob('../image_processing/image_arrays/*.npy'))"
   ]
  },
  {
   "cell_type": "code",
   "execution_count": 15,
   "metadata": {},
   "outputs": [
    {
     "data": {
      "text/plain": [
       "['../image_processing/image_arrays/0_images_320_320.npy',\n",
       " '../image_processing/image_arrays/1_images_512_512.npy',\n",
       " '../image_processing/image_arrays/2_images_600_600.npy',\n",
       " '../image_processing/image_arrays/3_images_632_632.npy',\n",
       " '../image_processing/image_arrays/4_images_1408_1408.npy',\n",
       " '../image_processing/image_arrays/5_images_1872_1872.npy',\n",
       " '../image_processing/image_arrays/6_images_2480_2480.npy',\n",
       " '../image_processing/image_arrays/7_images_2608_2608.npy',\n",
       " '../image_processing/image_arrays/8_images_3144_3144.npy']"
      ]
     },
     "execution_count": 15,
     "metadata": {},
     "output_type": "execute_result"
    }
   ],
   "source": [
    "image_arrays"
   ]
  },
  {
   "cell_type": "code",
   "execution_count": 16,
   "metadata": {},
   "outputs": [],
   "source": [
    "image_info = pd.read_parquet('image_info_dataframe.parquet')"
   ]
  },
  {
   "cell_type": "code",
   "execution_count": 17,
   "metadata": {},
   "outputs": [],
   "source": [
    "shape_dict = image_info.groupby(['shape_X', 'shape_Y']).indices"
   ]
  },
  {
   "cell_type": "code",
   "execution_count": 18,
   "metadata": {},
   "outputs": [],
   "source": [
    "name_list = []\n",
    "shape_list = []\n",
    "arrays = dict()\n",
    "\n",
    "for indices, array in zip(shape_dict, image_arrays):\n",
    "    name_list.append(Path(array).stem)\n",
    "    shape_list.append(indices)\n",
    "    images = np.load(array)\n",
    "    for idx, img in zip(shape_dict[indices], images):\n",
    "        arrays.update({idx:img})"
   ]
  },
  {
   "cell_type": "code",
   "execution_count": 19,
   "metadata": {},
   "outputs": [
    {
     "data": {
      "text/plain": [
       "1188"
      ]
     },
     "execution_count": 19,
     "metadata": {},
     "output_type": "execute_result"
    }
   ],
   "source": [
    "len(arrays)"
   ]
  },
  {
   "cell_type": "code",
   "execution_count": 20,
   "metadata": {},
   "outputs": [
    {
     "data": {
      "text/plain": [
       "['0_images_320_320',\n",
       " '1_images_512_512',\n",
       " '2_images_600_600',\n",
       " '3_images_632_632',\n",
       " '4_images_1408_1408',\n",
       " '5_images_1872_1872',\n",
       " '6_images_2480_2480',\n",
       " '7_images_2608_2608',\n",
       " '8_images_3144_3144']"
      ]
     },
     "execution_count": 20,
     "metadata": {},
     "output_type": "execute_result"
    }
   ],
   "source": [
    "name_list"
   ]
  },
  {
   "cell_type": "code",
   "execution_count": 21,
   "metadata": {},
   "outputs": [
    {
     "data": {
      "text/plain": [
       "[(320, 320),\n",
       " (512, 512),\n",
       " (600, 600),\n",
       " (632, 632),\n",
       " (1408, 1408),\n",
       " (1872, 1872),\n",
       " (2480, 2480),\n",
       " (2608, 2608),\n",
       " (3144, 3144)]"
      ]
     },
     "execution_count": 21,
     "metadata": {},
     "output_type": "execute_result"
    }
   ],
   "source": [
    "shape_list"
   ]
  },
  {
   "cell_type": "markdown",
   "metadata": {},
   "source": [
    "# Save fluorescente channel images"
   ]
  },
  {
   "cell_type": "markdown",
   "metadata": {},
   "source": [
    "## gfp channel"
   ]
  },
  {
   "cell_type": "code",
   "execution_count": 22,
   "metadata": {},
   "outputs": [],
   "source": [
    "def get_images_from_idx(index_list):\n",
    "    ''' Return a list of images corresponding to the indexes'''\n",
    "    \n",
    "    images = []\n",
    "    \n",
    "    for idx in index_list:\n",
    "        images.append(arrays[idx])\n",
    "    return images"
   ]
  },
  {
   "cell_type": "code",
   "execution_count": 23,
   "metadata": {},
   "outputs": [],
   "source": [
    "# DIC channels:\n",
    "idx_gfp = df_eukaryote.loc[(df_eukaryote['Channel.@LUTName'] == 'Green')].index.tolist()\n",
    "img_gfp = get_images_from_idx(idx_gfp)"
   ]
  },
  {
   "cell_type": "code",
   "execution_count": 24,
   "metadata": {},
   "outputs": [
    {
     "data": {
      "image/png": "[encoded data removed]",
      "text/plain": [
       "<Figure size 432x288 with 1 Axes>"
      ]
     },
     "metadata": {
      "needs_background": "light"
     },
     "output_type": "display_data"
    }
   ],
   "source": [
    "for idx, img in zip(idx_gfp, img_gfp):\n",
    "    plt.imshow(img)\n",
    "    plt.title(f'gfp_images/gfp_{idx}.tiff')\n",
    "plt."
   ]
  },
  {
   "cell_type": "code",
   "execution_count": 24,
   "metadata": {},
   "outputs": [],
   "source": [
    "for idx, img in zip(idx_gfp, img_gfp):\n",
    "    imageio.imwrite(f'gfp_images/gfp_{idx}.tiff', img)"
   ]
  },
  {
   "cell_type": "markdown",
   "metadata": {},
   "source": [
    "## probe channel"
   ]
  },
  {
   "cell_type": "code",
   "execution_count": 25,
   "metadata": {},
   "outputs": [],
   "source": [
    "# DIC channels:\n",
    "idx_probe = df_eukaryote.loc[(df_eukaryote['Channel.@LUTName'] == 'Red')].index.tolist()\n",
    "img_probe = get_images_from_idx(idx_probe)"
   ]
  },
  {
   "cell_type": "code",
   "execution_count": 26,
   "metadata": {},
   "outputs": [],
   "source": [
    "for idx, img in zip(idx_probe, img_probe):\n",
    "    imageio.imwrite(f'probe_images/probe_{idx}.tiff', img)"
   ]
  }
 ],
 "metadata": {
  "kernelspec": {
   "display_name": "Python 3",
   "language": "python",
   "name": "python3"
  },
  "language_info": {
   "codemirror_mode": {
    "name": "ipython",
    "version": 3
   },
   "file_extension": ".py",
   "mimetype": "text/x-python",
   "name": "python",
   "nbconvert_exporter": "python",
   "pygments_lexer": "ipython3",
   "version": "3.7.6"
  },
  "toc-autonumbering": true,
  "toc-showcode": false,
  "toc-showmarkdowntxt": false,
  "toc-showtags": false
 },
 "nbformat": 4,
 "nbformat_minor": 4
}
